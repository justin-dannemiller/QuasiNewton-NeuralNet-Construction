{
 "cells": [
  {
   "cell_type": "markdown",
   "metadata": {},
   "source": [
    "## Imports"
   ]
  },
  {
   "cell_type": "code",
   "execution_count": 1,
   "metadata": {},
   "outputs": [],
   "source": [
    "%load_ext autoreload\n",
    "%autoreload 2\n",
    "import torch\n",
    "from torch import Tensor\n",
    "\n",
    "from Datasets.Dataset_Loaders.breast_cancer_dataset_loader import prepare_wisc_breast_cancer_dataset\n",
    "from Datasets.Dataset_Loaders.kbit_parity_datset_loader import generate_k_bit_parity_dataset\n",
    "from Utils.neural_network import initialize_FC_neural_net, add_neuron_to_network, compute_accuracy, forward_pass\n",
    "from Utils.newton_update import compute_minimizer\n",
    "\n",
    "# Globals\n",
    "USE_KBIT_DATASET = True"
   ]
  },
  {
   "cell_type": "markdown",
   "metadata": {},
   "source": [
    "## Dataset Loading Examples"
   ]
  },
  {
   "cell_type": "code",
   "execution_count": 2,
   "metadata": {},
   "outputs": [
    {
     "name": "stdout",
     "output_type": "stream",
     "text": [
      "X shape: torch.Size([16, 4])\n",
      "Y shape: torch.Size([16, 1])\n"
     ]
    }
   ],
   "source": [
    "# k-bit parity dataset generation\n",
    "if USE_KBIT_DATASET:\n",
    "    X, y = generate_k_bit_parity_dataset(k=4)\n",
    "    print(f\"X shape: {X.shape}\")\n",
    "    print(f\"Y shape: {y.shape}\")"
   ]
  },
  {
   "cell_type": "code",
   "execution_count": 3,
   "metadata": {},
   "outputs": [],
   "source": [
    "# Breast cancer dataset loading\n",
    "if not USE_KBIT_DATASET:\n",
    "    X, y = prepare_wisc_breast_cancer_dataset(convert_to_tensor=True)\n",
    "    print(f\"X shape: {X.shape}\")\n",
    "    print(f\"Y shape: {y.shape}\")"
   ]
  },
  {
   "cell_type": "markdown",
   "metadata": {},
   "source": [
    "## Feedforward Neural Network Construction Algorithm"
   ]
  },
  {
   "cell_type": "code",
   "execution_count": 10,
   "metadata": {},
   "outputs": [],
   "source": [
    "def run_FNNCA(X: Tensor, y_true: Tensor, \n",
    "              acc_threshold: float, max_hidden_units: int):\n",
    "    \"\"\" Description: Performs Feedforward Neural Network Construction \n",
    "                    Algorithm with BFGS/SR1 update method.\n",
    "        Args:\n",
    "            X (Tensor): Input tensor of feature vectors\n",
    "            y_true (Tensor): Input tensor of true labels\n",
    "            acc_threshold (float): Accuray threshold for the given\n",
    "                                classification problem\n",
    "            max_hidden_units (int): Max number of hidden units that can be added\n",
    "                                    before termination if acc_threshold not reached\n",
    "    \"\"\"\n",
    "    # Initialize neural network with 2 initial hidden units\n",
    "    n_hidden = 2\n",
    "    n_feats = X.shape[1]\n",
    "    W_init = initialize_FC_neural_net(n_feats, n_hidden)\n",
    "    W = W_init\n",
    "    accuracy = 0\n",
    "    while True:\n",
    "        W = compute_minimizer(W, X, y_true, n_hidden)\n",
    "        _, _, _, y_hat = forward_pass(X, W, n_feats, n_hidden)\n",
    "        accuracy = compute_accuracy(y_hat, y_true)\n",
    "        print(f\"Number of hidden units: {n_hidden} | Accuracy after optimization: {accuracy}\")\n",
    "        # If accuracy is sufficient or max network size reached, terminate\n",
    "        if (accuracy > acc_threshold or n_hidden == max_hidden_units):\n",
    "            break\n",
    "        # Otherwise, add another neuron and reoptimize\n",
    "        else: \n",
    "            W, n_hidden = add_neuron_to_network(W, n_feats, \n",
    "                                    n_output_neurons=1, n_hidden=n_hidden)\n",
    "    return W"
   ]
  },
  {
   "cell_type": "markdown",
   "metadata": {},
   "source": [
    "## Reproduce Study Results"
   ]
  },
  {
   "cell_type": "code",
   "execution_count": 13,
   "metadata": {},
   "outputs": [
    {
     "name": "stderr",
     "output_type": "stream",
     "text": [
      "Iteration 9 | grad norm: 1.02e-06:   1%|          | 9/1000 [00:00<00:04, 243.82it/s]\n"
     ]
    },
    {
     "name": "stdout",
     "output_type": "stream",
     "text": [
      "Number of hidden units: 2 | Accuracy after optimization: 50.0\n"
     ]
    },
    {
     "name": "stderr",
     "output_type": "stream",
     "text": [
      "Iteration 3 | grad norm: 1.52e-01:   0%|          | 0/1000 [00:00<?, ?it/s]"
     ]
    },
    {
     "name": "stderr",
     "output_type": "stream",
     "text": [
      "Iteration 42 | grad norm: 7.67e-03:   4%|▍         | 42/1000 [00:00<00:03, 284.08it/s]\n"
     ]
    },
    {
     "name": "stdout",
     "output_type": "stream",
     "text": [
      "Number of hidden units: 3 | Accuracy after optimization: 50.0\n"
     ]
    },
    {
     "name": "stderr",
     "output_type": "stream",
     "text": [
      "Iteration 8 | grad norm: 8.06e-03:   1%|          | 8/1000 [00:00<00:03, 295.74it/s]\n"
     ]
    },
    {
     "name": "stdout",
     "output_type": "stream",
     "text": [
      "Number of hidden units: 4 | Accuracy after optimization: 50.0\n"
     ]
    },
    {
     "name": "stderr",
     "output_type": "stream",
     "text": [
      "Iteration 29 | grad norm: 6.38e-03:   3%|▎         | 29/1000 [00:00<00:03, 290.74it/s]\n"
     ]
    },
    {
     "name": "stdout",
     "output_type": "stream",
     "text": [
      "Number of hidden units: 5 | Accuracy after optimization: 50.0\n"
     ]
    },
    {
     "name": "stderr",
     "output_type": "stream",
     "text": [
      "Iteration 3 | grad norm: 6.64e-03:   0%|          | 3/1000 [00:00<00:03, 267.74it/s]\n"
     ]
    },
    {
     "name": "stdout",
     "output_type": "stream",
     "text": [
      "Number of hidden units: 6 | Accuracy after optimization: 50.78125\n"
     ]
    },
    {
     "name": "stderr",
     "output_type": "stream",
     "text": [
      "Iteration 12 | grad norm: 2.87e-05:   1%|          | 12/1000 [00:00<00:03, 263.32it/s]\n"
     ]
    },
    {
     "name": "stdout",
     "output_type": "stream",
     "text": [
      "Number of hidden units: 7 | Accuracy after optimization: 53.90625\n"
     ]
    },
    {
     "name": "stderr",
     "output_type": "stream",
     "text": [
      "Iteration 0 | grad norm: 1.74e-05:   0%|          | 0/1000 [00:00<?, ?it/s]\n"
     ]
    },
    {
     "name": "stdout",
     "output_type": "stream",
     "text": [
      "Number of hidden units: 8 | Accuracy after optimization: 53.90625\n"
     ]
    },
    {
     "name": "stderr",
     "output_type": "stream",
     "text": [
      "Iteration 0 | grad norm: 2.56e-05:   0%|          | 0/1000 [00:00<?, ?it/s]\n"
     ]
    },
    {
     "name": "stdout",
     "output_type": "stream",
     "text": [
      "Number of hidden units: 9 | Accuracy after optimization: 53.90625\n"
     ]
    },
    {
     "name": "stderr",
     "output_type": "stream",
     "text": [
      "Iteration 0 | grad norm: 4.38e-05:   0%|          | 0/1000 [00:00<?, ?it/s]"
     ]
    },
    {
     "name": "stdout",
     "output_type": "stream",
     "text": [
      "Number of hidden units: 10 | Accuracy after optimization: 53.90625\n"
     ]
    },
    {
     "name": "stderr",
     "output_type": "stream",
     "text": [
      "\n"
     ]
    }
   ],
   "source": [
    "## kbit parity problem\n",
    "X, y_true = generate_k_bit_parity_dataset(k=7)\n",
    "W_final = run_FNNCA(X, y_true, acc_threshold=60, max_hidden_units=10)\n"
   ]
  },
  {
   "cell_type": "code",
   "execution_count": null,
   "metadata": {},
   "outputs": [],
   "source": []
  }
 ],
 "metadata": {
  "kernelspec": {
   "display_name": "IDL2024",
   "language": "python",
   "name": "python3"
  },
  "language_info": {
   "codemirror_mode": {
    "name": "ipython",
    "version": 3
   },
   "file_extension": ".py",
   "mimetype": "text/x-python",
   "name": "python",
   "nbconvert_exporter": "python",
   "pygments_lexer": "ipython3",
   "version": "3.8.18"
  }
 },
 "nbformat": 4,
 "nbformat_minor": 2
}
