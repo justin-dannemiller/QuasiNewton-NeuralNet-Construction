{
 "cells": [
  {
   "cell_type": "markdown",
   "metadata": {},
   "source": [
    "## Imports"
   ]
  },
  {
   "cell_type": "code",
   "execution_count": 15,
   "metadata": {},
   "outputs": [
    {
     "name": "stdout",
     "output_type": "stream",
     "text": [
      "The autoreload extension is already loaded. To reload it, use:\n",
      "  %reload_ext autoreload\n"
     ]
    }
   ],
   "source": [
    "%load_ext autoreload\n",
    "%autoreload 2\n",
    "import torch\n",
    "from torch import Tensor\n",
    "\n",
    "from Datasets.Dataset_Loaders.breast_cancer_dataset_loader import prepare_wisc_breast_cancer_dataset\n",
    "from Datasets.Dataset_Loaders.kbit_parity_datset_loader import generate_k_bit_parity_dataset\n",
    "from Utils.neural_network import initialize_FC_neural_net, add_neuron_to_network, compute_accuracy, forward_pass\n",
    "from Utils.newton_update import compute_minimizer\n",
    "\n",
    "# Globals\n",
    "USE_KBIT_DATASET = True\n",
    "DEVICE = torch.device(\"cuda\" if torch.cuda.is_available() else \"cpu\")"
   ]
  },
  {
   "cell_type": "markdown",
   "metadata": {},
   "source": [
    "## Dataset Loading Examples"
   ]
  },
  {
   "cell_type": "code",
   "execution_count": 3,
   "metadata": {},
   "outputs": [
    {
     "name": "stdout",
     "output_type": "stream",
     "text": [
      "X shape: torch.Size([16, 4])\n",
      "Y shape: torch.Size([16, 1])\n"
     ]
    }
   ],
   "source": [
    "# k-bit parity dataset generation\n",
    "if USE_KBIT_DATASET:\n",
    "    X, y = generate_k_bit_parity_dataset(k=4)\n",
    "    print(f\"X shape: {X.shape}\")\n",
    "    print(f\"Y shape: {y.shape}\")"
   ]
  },
  {
   "cell_type": "code",
   "execution_count": 4,
   "metadata": {},
   "outputs": [],
   "source": [
    "# Breast cancer dataset loading\n",
    "if not USE_KBIT_DATASET:\n",
    "    X, y = prepare_wisc_breast_cancer_dataset(convert_to_tensor=True)\n",
    "    print(f\"X shape: {X.shape}\")\n",
    "    print(f\"Y shape: {y.shape}\")"
   ]
  },
  {
   "cell_type": "markdown",
   "metadata": {},
   "source": [
    "## Feedforward Neural Network Construction Algorithm"
   ]
  },
  {
   "cell_type": "code",
   "execution_count": 36,
   "metadata": {},
   "outputs": [],
   "source": [
    "def run_FNNCA(X: Tensor, y_true: Tensor, \n",
    "              acc_threshold: float, max_hidden_units: int, device):\n",
    "    \"\"\" Description: Performs Feedforward Neural Network Construction \n",
    "                    Algorithm with BFGS/SR1 update method.\n",
    "        Args:\n",
    "            X (Tensor): Input tensor of feature vectors\n",
    "            y_true (Tensor): Input tensor of true labels\n",
    "            acc_threshold (float): Accuray threshold for the given\n",
    "                                classification problem\n",
    "            max_hidden_units (int): Max number of hidden units that can be added\n",
    "                                    before termination if acc_threshold not reached\n",
    "    \"\"\"\n",
    "    # Initialize neural network with 2 initial hidden units\n",
    "    n_hidden = 2\n",
    "    n_feats = X.shape[1]\n",
    "    W_init = initialize_FC_neural_net(n_feats, n_hidden, device)\n",
    "    W = W_init\n",
    "    accuracy = 0\n",
    "    while True:\n",
    "        W = compute_minimizer(W, X, y_true, n_hidden, device)\n",
    "        _, _, _, y_hat = forward_pass(X, W, n_feats, n_hidden)\n",
    "        accuracy = compute_accuracy(y_hat, y_true)\n",
    "        print(f\"Number of hidden units: {n_hidden} | Accuracy after optimization: {accuracy}\")\n",
    "        # If accuracy is sufficient or max network size reached, terminate\n",
    "        if (accuracy > acc_threshold or n_hidden == max_hidden_units):\n",
    "            break\n",
    "        # Otherwise, add another neuron and reoptimize\n",
    "        else: \n",
    "            W, n_hidden = add_neuron_to_network(W, n_feats, \n",
    "                                    n_output_neurons=1, n_hidden=n_hidden, device=device)\n",
    "    return W"
   ]
  },
  {
   "cell_type": "markdown",
   "metadata": {},
   "source": [
    "## Reproduce Study Results"
   ]
  },
  {
   "cell_type": "code",
   "execution_count": 41,
   "metadata": {},
   "outputs": [
    {
     "name": "stdout",
     "output_type": "stream",
     "text": [
      "device that we are running on: cuda\n"
     ]
    },
    {
     "name": "stderr",
     "output_type": "stream",
     "text": [
      "Iteration 9999 | grad norm: 1.74e-04: 100%|██████████| 10000/10000 [01:09<00:00, 144.71it/s]\n"
     ]
    },
    {
     "name": "stdout",
     "output_type": "stream",
     "text": [
      "Number of hidden units: 2 | Accuracy after optimization: 62.5\n"
     ]
    },
    {
     "name": "stderr",
     "output_type": "stream",
     "text": [
      "Iteration 9999 | grad norm: 1.13e-07: 100%|██████████| 10000/10000 [01:09<00:00, 144.38it/s]\n"
     ]
    },
    {
     "name": "stdout",
     "output_type": "stream",
     "text": [
      "Number of hidden units: 3 | Accuracy after optimization: 75.0\n"
     ]
    },
    {
     "name": "stderr",
     "output_type": "stream",
     "text": [
      "Iteration 9999 | grad norm: 4.27e-05: 100%|██████████| 10000/10000 [00:53<00:00, 187.28it/s]"
     ]
    },
    {
     "name": "stdout",
     "output_type": "stream",
     "text": [
      "Number of hidden units: 4 | Accuracy after optimization: 81.25\n"
     ]
    },
    {
     "name": "stderr",
     "output_type": "stream",
     "text": [
      "\n"
     ]
    }
   ],
   "source": [
    "## kbit parity problem\n",
    "X, y_true = generate_k_bit_parity_dataset(k=4)\n",
    "X, y_true = X.to(DEVICE), y_true.to(DEVICE)\n",
    "print(f\"device that we are running on: {DEVICE}\")\n",
    "W_final = run_FNNCA(X, y_true, acc_threshold=80, max_hidden_units=10, device=DEVICE)\n"
   ]
  },
  {
   "cell_type": "code",
   "execution_count": 49,
   "metadata": {},
   "outputs": [
    {
     "name": "stdout",
     "output_type": "stream",
     "text": [
      "device that we are running on: cuda\n"
     ]
    },
    {
     "name": "stderr",
     "output_type": "stream",
     "text": [
      "Iteration 9 | grad norm: 1.83e-03:   0%|          | 0/10000 [00:00<?, ?it/s]"
     ]
    },
    {
     "name": "stderr",
     "output_type": "stream",
     "text": [
      "Iteration 9999 | grad norm: 6.07e-06: 100%|██████████| 10000/10000 [01:10<00:00, 141.19it/s]\n"
     ]
    },
    {
     "name": "stdout",
     "output_type": "stream",
     "text": [
      "Number of hidden units: 2 | Accuracy after optimization: 51.5625\n"
     ]
    },
    {
     "name": "stderr",
     "output_type": "stream",
     "text": [
      "Iteration 9999 | grad norm: 1.92e-04: 100%|██████████| 10000/10000 [01:10<00:00, 140.90it/s]\n"
     ]
    },
    {
     "name": "stdout",
     "output_type": "stream",
     "text": [
      "Number of hidden units: 3 | Accuracy after optimization: 50.0\n"
     ]
    },
    {
     "name": "stderr",
     "output_type": "stream",
     "text": [
      "Iteration 9999 | grad norm: 8.44e-06: 100%|██████████| 10000/10000 [01:11<00:00, 140.77it/s]\n"
     ]
    },
    {
     "name": "stdout",
     "output_type": "stream",
     "text": [
      "Number of hidden units: 4 | Accuracy after optimization: 41.40625\n"
     ]
    },
    {
     "name": "stderr",
     "output_type": "stream",
     "text": [
      "Iteration 9999 | grad norm: 5.38e-06: 100%|██████████| 10000/10000 [01:11<00:00, 140.51it/s]\n"
     ]
    },
    {
     "name": "stdout",
     "output_type": "stream",
     "text": [
      "Number of hidden units: 5 | Accuracy after optimization: 49.21875\n"
     ]
    },
    {
     "name": "stderr",
     "output_type": "stream",
     "text": [
      "Iteration 9999 | grad norm: 6.10e-02: 100%|██████████| 10000/10000 [01:09<00:00, 143.85it/s]\n"
     ]
    },
    {
     "name": "stdout",
     "output_type": "stream",
     "text": [
      "Number of hidden units: 6 | Accuracy after optimization: 82.03125\n"
     ]
    },
    {
     "name": "stderr",
     "output_type": "stream",
     "text": [
      "Iteration 9999 | grad norm: 5.27e-02: 100%|██████████| 10000/10000 [01:08<00:00, 145.69it/s]\n"
     ]
    },
    {
     "name": "stdout",
     "output_type": "stream",
     "text": [
      "Number of hidden units: 7 | Accuracy after optimization: 87.5\n"
     ]
    },
    {
     "name": "stderr",
     "output_type": "stream",
     "text": [
      "Iteration 9999 | grad norm: 9.42e-02: 100%|██████████| 10000/10000 [01:08<00:00, 145.36it/s]\n"
     ]
    },
    {
     "name": "stdout",
     "output_type": "stream",
     "text": [
      "Number of hidden units: 8 | Accuracy after optimization: 92.96875\n"
     ]
    },
    {
     "name": "stderr",
     "output_type": "stream",
     "text": [
      "Iteration 168 | grad norm: 4.64e-03:   2%|▏         | 168/10000 [00:00<00:16, 582.56it/s]\n"
     ]
    },
    {
     "name": "stdout",
     "output_type": "stream",
     "text": [
      "Number of hidden units: 9 | Accuracy after optimization: 97.65625\n"
     ]
    },
    {
     "name": "stderr",
     "output_type": "stream",
     "text": [
      "Iteration 11 | grad norm: 4.84e-03:   0%|          | 11/10000 [00:00<00:19, 503.27it/s]\n"
     ]
    },
    {
     "name": "stdout",
     "output_type": "stream",
     "text": [
      "Number of hidden units: 10 | Accuracy after optimization: 97.65625\n"
     ]
    }
   ],
   "source": [
    "## kbit parity problem\n",
    "X, y_true = generate_k_bit_parity_dataset(k=7)\n",
    "X, y_true = X.to(DEVICE), y_true.to(DEVICE)\n",
    "print(f\"device that we are running on: {DEVICE}\")\n",
    "W_final = run_FNNCA(X, y_true, acc_threshold=100, max_hidden_units=10, device=DEVICE)"
   ]
  },
  {
   "cell_type": "code",
   "execution_count": null,
   "metadata": {},
   "outputs": [],
   "source": []
  }
 ],
 "metadata": {
  "kernelspec": {
   "display_name": "IDL2024",
   "language": "python",
   "name": "python3"
  },
  "language_info": {
   "codemirror_mode": {
    "name": "ipython",
    "version": 3
   },
   "file_extension": ".py",
   "mimetype": "text/x-python",
   "name": "python",
   "nbconvert_exporter": "python",
   "pygments_lexer": "ipython3",
   "version": "3.8.18"
  }
 },
 "nbformat": 4,
 "nbformat_minor": 2
}
