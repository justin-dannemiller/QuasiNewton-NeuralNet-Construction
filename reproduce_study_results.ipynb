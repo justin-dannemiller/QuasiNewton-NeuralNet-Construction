{
 "cells": [
  {
   "cell_type": "markdown",
   "metadata": {},
   "source": [
    "## Imports"
   ]
  },
  {
   "cell_type": "code",
   "execution_count": 1,
   "metadata": {},
   "outputs": [],
   "source": [
    "%load_ext autoreload\n",
    "%autoreload 2\n",
    "import torch\n",
    "from torch import Tensor\n",
    "\n",
    "from Datasets.Dataset_Loaders.breast_cancer_dataset_loader import prepare_wisc_breast_cancer_dataset\n",
    "from Datasets.Dataset_Loaders.kbit_parity_datset_loader import generate_k_bit_parity_dataset\n",
    "from Utils.neural_network import initialize_FC_neural_net, add_neuron_to_network, accuracy, forward_pass\n",
    "from Utils.newton_update import compute_minimizer\n",
    "\n",
    "# Globals\n",
    "USE_KBIT_DATASET = True"
   ]
  },
  {
   "cell_type": "markdown",
   "metadata": {},
   "source": [
    "## Dataset Loading Examples"
   ]
  },
  {
   "cell_type": "code",
   "execution_count": 2,
   "metadata": {},
   "outputs": [
    {
     "name": "stdout",
     "output_type": "stream",
     "text": [
      "X shape: torch.Size([16, 4])\n",
      "Y shape: torch.Size([16, 1])\n"
     ]
    }
   ],
   "source": [
    "# k-bit parity dataset generation\n",
    "if USE_KBIT_DATASET:\n",
    "    X, y = generate_k_bit_parity_dataset(k=4)\n",
    "    print(f\"X shape: {X.shape}\")\n",
    "    print(f\"Y shape: {y.shape}\")"
   ]
  },
  {
   "cell_type": "code",
   "execution_count": 3,
   "metadata": {},
   "outputs": [],
   "source": [
    "# Breast cancer dataset loading\n",
    "if not USE_KBIT_DATASET:\n",
    "    X, y = prepare_wisc_breast_cancer_dataset(convert_to_tensor=True)\n",
    "    print(f\"X shape: {X.shape}\")\n",
    "    print(f\"Y shape: {y.shape}\")"
   ]
  },
  {
   "cell_type": "markdown",
   "metadata": {},
   "source": [
    "## Feedforward Neural Network Construction Algorithm"
   ]
  },
  {
   "cell_type": "code",
   "execution_count": 8,
   "metadata": {},
   "outputs": [],
   "source": [
    "def run_FNNCA(X: Tensor, y_true: Tensor, \n",
    "              acc_threshold: float, max_hidden_units: int):\n",
    "    \"\"\" Description: Performs Feedforward Neural Network Construction \n",
    "                    Algorithm with BFGS/SR1 update method.\n",
    "        Args:\n",
    "            X (Tensor): Input tensor of feature vectors\n",
    "            y_true (Tensor): Input tensor of true labels\n",
    "            acc_threshold (float): Accuray threshold for the given\n",
    "                                classification problem\n",
    "            max_hidden_units (int): Max number of hidden units that can be added\n",
    "                                    before termination if acc_threshold not reached\n",
    "    \"\"\"\n",
    "    # Initialize neural network with 2 initial hidden units\n",
    "    n_hidden = 2\n",
    "    n_feats = X.shape[1]\n",
    "    W_init = initialize_FC_neural_net(n_feats, n_hidden)\n",
    "    accuracy = 0\n",
    "    while True:\n",
    "        W = compute_minimizer(W_init, X, y_true, n_hidden)\n",
    "        _, _, y_hat = forward_pass(X, W, n_feats, n_hidden)\n",
    "        accuracy = accuracy(y_hat, y_true)\n",
    "        print(f\"Number of hidden units: {n_hidden} | Accuracy after optimization: {accuracy}\")\n",
    "        # If accuracy is sufficient or max network size reached, terminate\n",
    "        if (accuracy < acc_threshold and n_hidden <= max_hidden_units):\n",
    "            break\n",
    "        # Otherwise, add another neuron and reoptimize\n",
    "        else: \n",
    "            W, n_hidden = add_neuron_to_network(W, n_feats, \n",
    "                                    n_output_neurons=1, n_hidden=n_hidden)\n",
    "    return W"
   ]
  },
  {
   "cell_type": "markdown",
   "metadata": {},
   "source": [
    "## Reproduce Study Results"
   ]
  },
  {
   "cell_type": "code",
   "execution_count": 11,
   "metadata": {},
   "outputs": [
    {
     "name": "stderr",
     "output_type": "stream",
     "text": [
      "Iteration 0 | grad norm: 9.20e-01:   0%|          | 0/1000 [00:00<?, ?it/s]\n"
     ]
    },
    {
     "ename": "TypeError",
     "evalue": "unsupported operand type(s) for +: 'function' and 'Tensor'",
     "output_type": "error",
     "traceback": [
      "\u001b[0;31m---------------------------------------------------------------------------\u001b[0m",
      "\u001b[0;31mTypeError\u001b[0m                                 Traceback (most recent call last)",
      "\u001b[0;32m<ipython-input-11-d33b98b9874b>\u001b[0m in \u001b[0;36m<module>\u001b[0;34m\u001b[0m\n\u001b[1;32m      1\u001b[0m \u001b[0;31m## kbit parity problem\u001b[0m\u001b[0;34m\u001b[0m\u001b[0;34m\u001b[0m\u001b[0;34m\u001b[0m\u001b[0m\n\u001b[1;32m      2\u001b[0m \u001b[0mX\u001b[0m\u001b[0;34m,\u001b[0m \u001b[0my_true\u001b[0m \u001b[0;34m=\u001b[0m \u001b[0mgenerate_k_bit_parity_dataset\u001b[0m\u001b[0;34m(\u001b[0m\u001b[0mk\u001b[0m\u001b[0;34m=\u001b[0m\u001b[0;36m4\u001b[0m\u001b[0;34m)\u001b[0m\u001b[0;34m\u001b[0m\u001b[0;34m\u001b[0m\u001b[0m\n\u001b[0;32m----> 3\u001b[0;31m \u001b[0mW_final\u001b[0m \u001b[0;34m=\u001b[0m \u001b[0mrun_FNNCA\u001b[0m\u001b[0;34m(\u001b[0m\u001b[0mX\u001b[0m\u001b[0;34m,\u001b[0m \u001b[0my_true\u001b[0m\u001b[0;34m,\u001b[0m \u001b[0macc_threshold\u001b[0m\u001b[0;34m=\u001b[0m\u001b[0;36m60\u001b[0m\u001b[0;34m,\u001b[0m \u001b[0mmax_hidden_units\u001b[0m\u001b[0;34m=\u001b[0m\u001b[0;36m10\u001b[0m\u001b[0;34m)\u001b[0m\u001b[0;34m\u001b[0m\u001b[0;34m\u001b[0m\u001b[0m\n\u001b[0m",
      "\u001b[0;32m<ipython-input-8-cae0a1878446>\u001b[0m in \u001b[0;36mrun_FNNCA\u001b[0;34m(X, y_true, acc_threshold, max_hidden_units)\u001b[0m\n\u001b[1;32m     17\u001b[0m     \u001b[0maccuracy\u001b[0m \u001b[0;34m=\u001b[0m \u001b[0;36m0\u001b[0m\u001b[0;34m\u001b[0m\u001b[0;34m\u001b[0m\u001b[0m\n\u001b[1;32m     18\u001b[0m     \u001b[0;32mwhile\u001b[0m \u001b[0;32mTrue\u001b[0m\u001b[0;34m:\u001b[0m\u001b[0;34m\u001b[0m\u001b[0;34m\u001b[0m\u001b[0m\n\u001b[0;32m---> 19\u001b[0;31m         \u001b[0mW\u001b[0m \u001b[0;34m=\u001b[0m \u001b[0mcompute_minimizer\u001b[0m\u001b[0;34m(\u001b[0m\u001b[0mW_init\u001b[0m\u001b[0;34m,\u001b[0m \u001b[0mX\u001b[0m\u001b[0;34m,\u001b[0m \u001b[0my_true\u001b[0m\u001b[0;34m,\u001b[0m \u001b[0mn_hidden\u001b[0m\u001b[0;34m)\u001b[0m\u001b[0;34m\u001b[0m\u001b[0;34m\u001b[0m\u001b[0m\n\u001b[0m\u001b[1;32m     20\u001b[0m         \u001b[0m_\u001b[0m\u001b[0;34m,\u001b[0m \u001b[0m_\u001b[0m\u001b[0;34m,\u001b[0m \u001b[0my_hat\u001b[0m \u001b[0;34m=\u001b[0m \u001b[0mforward_pass\u001b[0m\u001b[0;34m(\u001b[0m\u001b[0mX\u001b[0m\u001b[0;34m,\u001b[0m \u001b[0mW\u001b[0m\u001b[0;34m,\u001b[0m \u001b[0mn_feats\u001b[0m\u001b[0;34m,\u001b[0m \u001b[0mn_hidden\u001b[0m\u001b[0;34m)\u001b[0m\u001b[0;34m\u001b[0m\u001b[0;34m\u001b[0m\u001b[0m\n\u001b[1;32m     21\u001b[0m         \u001b[0maccuracy\u001b[0m \u001b[0;34m=\u001b[0m \u001b[0maccuracy\u001b[0m\u001b[0;34m(\u001b[0m\u001b[0my_hat\u001b[0m\u001b[0;34m,\u001b[0m \u001b[0my_true\u001b[0m\u001b[0;34m)\u001b[0m\u001b[0;34m\u001b[0m\u001b[0;34m\u001b[0m\u001b[0m\n",
      "\u001b[0;32m~/Documents/Carnegie_Mellon_University/Semester04/ECE18660_ConvexOptimization/Final_Project/QuasiNewton-NeuralNet-Construction/Utils/newton_update.py\u001b[0m in \u001b[0;36mcompute_minimizer\u001b[0;34m(W_init, X, y_true, n_hidden, max_iters, grad_tol)\u001b[0m\n\u001b[1;32m    142\u001b[0m     \u001b[0;32melse\u001b[0m\u001b[0;34m:\u001b[0m\u001b[0;34m\u001b[0m\u001b[0;34m\u001b[0m\u001b[0m\n\u001b[1;32m    143\u001b[0m       \u001b[0;31m# Otherwise continue updating weights and inverse hessian\u001b[0m\u001b[0;34m\u001b[0m\u001b[0;34m\u001b[0m\u001b[0;34m\u001b[0m\u001b[0m\n\u001b[0;32m--> 144\u001b[0;31m       \u001b[0mW_new\u001b[0m \u001b[0;34m=\u001b[0m \u001b[0mupdate_weights\u001b[0m\u001b[0;34m(\u001b[0m\u001b[0mX\u001b[0m\u001b[0;34m,\u001b[0m \u001b[0my_true\u001b[0m\u001b[0;34m,\u001b[0m \u001b[0mW\u001b[0m\u001b[0;34m,\u001b[0m \u001b[0mH_inv\u001b[0m\u001b[0;34m,\u001b[0m \u001b[0mn_feats\u001b[0m\u001b[0;34m,\u001b[0m \u001b[0mn_hidden\u001b[0m\u001b[0;34m)\u001b[0m\u001b[0;34m\u001b[0m\u001b[0;34m\u001b[0m\u001b[0m\n\u001b[0m\u001b[1;32m    145\u001b[0m \u001b[0;34m\u001b[0m\u001b[0m\n\u001b[1;32m    146\u001b[0m       grad_delta = compute_gradient_delta(X, y_true, W_prev=W, W_current=W_new,\n",
      "\u001b[0;32m~/Documents/Carnegie_Mellon_University/Semester04/ECE18660_ConvexOptimization/Final_Project/QuasiNewton-NeuralNet-Construction/Utils/newton_update.py\u001b[0m in \u001b[0;36mupdate_weights\u001b[0;34m(X, y_true, W, H_inv, n_feat, h)\u001b[0m\n\u001b[1;32m     95\u001b[0m     \u001b[0md_k\u001b[0m     \u001b[0;34m=\u001b[0m \u001b[0;34m-\u001b[0m \u001b[0mH_inv\u001b[0m \u001b[0;34m@\u001b[0m \u001b[0mg_W\u001b[0m\u001b[0;34m\u001b[0m\u001b[0;34m\u001b[0m\u001b[0m\n\u001b[1;32m     96\u001b[0m \u001b[0;34m\u001b[0m\u001b[0m\n\u001b[0;32m---> 97\u001b[0;31m     \u001b[0malpha_k\u001b[0m \u001b[0;34m=\u001b[0m \u001b[0mperform_line_search\u001b[0m\u001b[0;34m(\u001b[0m\u001b[0mf\u001b[0m\u001b[0;34m,\u001b[0m \u001b[0mgrad_f\u001b[0m\u001b[0;34m,\u001b[0m \u001b[0mW\u001b[0m\u001b[0;34m,\u001b[0m \u001b[0md_k\u001b[0m\u001b[0;34m)\u001b[0m\u001b[0;34m\u001b[0m\u001b[0;34m\u001b[0m\u001b[0m\n\u001b[0m\u001b[1;32m     98\u001b[0m \u001b[0;34m\u001b[0m\u001b[0m\n\u001b[1;32m     99\u001b[0m     \u001b[0mW_new\u001b[0m   \u001b[0;34m=\u001b[0m \u001b[0mW\u001b[0m \u001b[0;34m+\u001b[0m \u001b[0malpha_k\u001b[0m \u001b[0;34m*\u001b[0m \u001b[0md_k\u001b[0m\u001b[0;34m\u001b[0m\u001b[0;34m\u001b[0m\u001b[0m\n",
      "\u001b[0;32m~/Documents/Carnegie_Mellon_University/Semester04/ECE18660_ConvexOptimization/Final_Project/QuasiNewton-NeuralNet-Construction/Utils/newton_update.py\u001b[0m in \u001b[0;36mperform_line_search\u001b[0;34m(W, h, x, search_dir)\u001b[0m\n\u001b[1;32m     66\u001b[0m \u001b[0;34m\u001b[0m\u001b[0m\n\u001b[1;32m     67\u001b[0m     \u001b[0;32mfor\u001b[0m \u001b[0mi\u001b[0m \u001b[0;32min\u001b[0m \u001b[0mrange\u001b[0m\u001b[0;34m(\u001b[0m\u001b[0mmax_iter\u001b[0m\u001b[0;34m)\u001b[0m\u001b[0;34m:\u001b[0m\u001b[0;34m\u001b[0m\u001b[0;34m\u001b[0m\u001b[0m\n\u001b[0;32m---> 68\u001b[0;31m         \u001b[0mW_lamb_d\u001b[0m \u001b[0;34m=\u001b[0m \u001b[0mW\u001b[0m \u001b[0;34m+\u001b[0m \u001b[0mlambda_\u001b[0m \u001b[0;34m*\u001b[0m \u001b[0msearch_dir\u001b[0m \u001b[0;31m# broadcast sum across W\u001b[0m\u001b[0;34m\u001b[0m\u001b[0;34m\u001b[0m\u001b[0m\n\u001b[0m\u001b[1;32m     69\u001b[0m         \u001b[0my_lamb\u001b[0m\u001b[0;34m,\u001b[0m \u001b[0mz_lamb\u001b[0m \u001b[0;34m=\u001b[0m \u001b[0munpack_weights\u001b[0m\u001b[0;34m(\u001b[0m\u001b[0mW_lamb_d\u001b[0m\u001b[0;34m,\u001b[0m \u001b[0mx\u001b[0m\u001b[0;34m.\u001b[0m\u001b[0mshape\u001b[0m\u001b[0;34m[\u001b[0m\u001b[0;36m0\u001b[0m\u001b[0;34m]\u001b[0m\u001b[0;34m,\u001b[0m \u001b[0mh\u001b[0m\u001b[0;34m)\u001b[0m\u001b[0;34m\u001b[0m\u001b[0;34m\u001b[0m\u001b[0m\n\u001b[1;32m     70\u001b[0m         \u001b[0my\u001b[0m\u001b[0;34m,\u001b[0m \u001b[0mz\u001b[0m \u001b[0;34m=\u001b[0m \u001b[0munpack_weights\u001b[0m\u001b[0;34m(\u001b[0m\u001b[0mW\u001b[0m\u001b[0;34m,\u001b[0m \u001b[0mx\u001b[0m\u001b[0;34m.\u001b[0m\u001b[0mshape\u001b[0m\u001b[0;34m[\u001b[0m\u001b[0;36m0\u001b[0m\u001b[0;34m]\u001b[0m\u001b[0;34m,\u001b[0m \u001b[0mh\u001b[0m\u001b[0;34m)\u001b[0m\u001b[0;34m\u001b[0m\u001b[0;34m\u001b[0m\u001b[0m\n",
      "\u001b[0;31mTypeError\u001b[0m: unsupported operand type(s) for +: 'function' and 'Tensor'"
     ]
    }
   ],
   "source": [
    "## kbit parity problem\n",
    "X, y_true = generate_k_bit_parity_dataset(k=4)\n",
    "W_final = run_FNNCA(X, y_true, acc_threshold=60, max_hidden_units=10)\n"
   ]
  }
 ],
 "metadata": {
  "kernelspec": {
   "display_name": "IDL2024",
   "language": "python",
   "name": "python3"
  },
  "language_info": {
   "codemirror_mode": {
    "name": "ipython",
    "version": 3
   },
   "file_extension": ".py",
   "mimetype": "text/x-python",
   "name": "python",
   "nbconvert_exporter": "python",
   "pygments_lexer": "ipython3",
   "version": "3.8.18"
  }
 },
 "nbformat": 4,
 "nbformat_minor": 2
}
