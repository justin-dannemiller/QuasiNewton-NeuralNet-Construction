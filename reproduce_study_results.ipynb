{
 "cells": [
  {
   "cell_type": "markdown",
   "metadata": {},
   "source": [
    "## Imports"
   ]
  },
  {
   "cell_type": "code",
   "execution_count": 151,
   "metadata": {},
   "outputs": [
    {
     "name": "stdout",
     "output_type": "stream",
     "text": [
      "The autoreload extension is already loaded. To reload it, use:\n",
      "  %reload_ext autoreload\n"
     ]
    }
   ],
   "source": [
    "%load_ext autoreload\n",
    "%autoreload 2\n",
    "import torch\n",
    "from torch import Tensor\n",
    "\n",
    "from Datasets.Dataset_Loaders.breast_cancer_dataset_loader import prepare_wisc_breast_cancer_dataset\n",
    "from Datasets.Dataset_Loaders.kbit_parity_datset_loader import generate_k_bit_parity_dataset\n",
    "from Utils.neural_network import initialize_FC_neural_net, add_neuron_to_network, compute_accuracy, forward_pass\n",
    "from Utils.newton_update import compute_minimizer\n",
    "from Utils.plotting import plot_loss_profile\n",
    "\n",
    "# Globals\n",
    "USE_KBIT_DATASET = True\n",
    "DEVICE = torch.device(\"cuda\" if torch.cuda.is_available() else \"cpu\")"
   ]
  },
  {
   "cell_type": "markdown",
   "metadata": {},
   "source": [
    "## Dataset Loading Examples"
   ]
  },
  {
   "cell_type": "code",
   "execution_count": 3,
   "metadata": {},
   "outputs": [
    {
     "name": "stdout",
     "output_type": "stream",
     "text": [
      "X shape: torch.Size([16, 4])\n",
      "Y shape: torch.Size([16, 1])\n"
     ]
    }
   ],
   "source": [
    "# k-bit parity dataset generation\n",
    "if USE_KBIT_DATASET:\n",
    "    X, y = generate_k_bit_parity_dataset(k=4)\n",
    "    print(f\"X shape: {X.shape}\")\n",
    "    print(f\"Y shape: {y.shape}\")"
   ]
  },
  {
   "cell_type": "code",
   "execution_count": 4,
   "metadata": {},
   "outputs": [],
   "source": [
    "# Breast cancer dataset loading\n",
    "if not USE_KBIT_DATASET:\n",
    "    X, y = prepare_wisc_breast_cancer_dataset(convert_to_tensor=True)\n",
    "    print(f\"X shape: {X.shape}\")\n",
    "    print(f\"Y shape: {y.shape}\")"
   ]
  },
  {
   "cell_type": "markdown",
   "metadata": {},
   "source": [
    "## Feedforward Neural Network Construction Algorithm"
   ]
  },
  {
   "cell_type": "code",
   "execution_count": 133,
   "metadata": {},
   "outputs": [],
   "source": [
    "def run_FNNCA(X: Tensor, y_true: Tensor, \n",
    "              acc_threshold: float, max_hidden_units: int, device):\n",
    "    \"\"\" Description: Performs Feedforward Neural Network Construction \n",
    "                    Algorithm with BFGS/SR1 update method.\n",
    "        Args:\n",
    "            X (Tensor): Input tensor of feature vectors\n",
    "            y_true (Tensor): Input tensor of true labels\n",
    "            acc_threshold (float): Accuray threshold for the given\n",
    "                                classification problem\n",
    "            max_hidden_units (int): Max number of hidden units that can be added\n",
    "                                    before termination if acc_threshold not reached\n",
    "        Returns:\n",
    "            W (Tensor): Weight of optimized neural network for given problem\n",
    "            training_results (dict): Dictionary storing the sequence of training losses for each\n",
    "                                     number of hidden units tested\n",
    "    \"\"\"\n",
    "    # Create dict to store losses for each number of hidden units tested\n",
    "    training_results = {}\n",
    "    n_iterations = 0 \n",
    "    # Initialize neural network with 2 initial hidden units\n",
    "    n_hidden = 2\n",
    "    n_feats = X.shape[1]\n",
    "    W_init = initialize_FC_neural_net(n_feats, n_hidden, device)\n",
    "    W = W_init\n",
    "    accuracy = 0\n",
    "\n",
    "    while True:\n",
    "        # Compute minimizer for current number of hidden units and track results\n",
    "        W, training_losses = compute_minimizer(W, X, y_true, n_hidden, device)\n",
    "\n",
    "        training_results[n_hidden] = {\n",
    "            \"training_loss\": training_losses,\n",
    "            \"iterations\": list(range(n_iterations, n_iterations+ len(training_losses)))\n",
    "        }\n",
    "        n_iterations += len(training_losses)\n",
    "        _, _, _, y_hat = forward_pass(X, W, n_feats, n_hidden)\n",
    "        accuracy = compute_accuracy(y_hat, y_true)\n",
    "        print(f\"Number of hidden units: {n_hidden} | Accuracy after optimization: {accuracy}\")\n",
    "        # If accuracy is sufficient or max network size reached, terminate\n",
    "        if (accuracy >= acc_threshold or n_hidden == max_hidden_units):\n",
    "            break\n",
    "        # Otherwise, add another neuron and reoptimize\n",
    "        else: \n",
    "            W, n_hidden = add_neuron_to_network(W, n_feats, \n",
    "                                    n_output_neurons=1, n_hidden=n_hidden, device=device)\n",
    "    return W, training_results"
   ]
  },
  {
   "cell_type": "markdown",
   "metadata": {},
   "source": [
    "## Reproduce Study Results"
   ]
  },
  {
   "cell_type": "code",
   "execution_count": null,
   "metadata": {},
   "outputs": [
    {
     "name": "stderr",
     "output_type": "stream",
     "text": [
      "Iteration 313 | grad norm: 1.08e-08:  31%|███▏      | 313/1000 [00:01<00:03, 174.50it/s]\n"
     ]
    },
    {
     "name": "stdout",
     "output_type": "stream",
     "text": [
      "Number of hidden units: 2 | Accuracy after optimization: 75.0\n"
     ]
    },
    {
     "name": "stderr",
     "output_type": "stream",
     "text": [
      "Iteration 104 | grad norm: 0.00e+00:  10%|█         | 104/1000 [00:00<00:02, 343.23it/s]\n"
     ]
    },
    {
     "name": "stdout",
     "output_type": "stream",
     "text": [
      "Number of hidden units: 3 | Accuracy after optimization: 81.25\n"
     ]
    },
    {
     "name": "stderr",
     "output_type": "stream",
     "text": [
      "Iteration 64 | grad norm: 4.13e-05:   6%|▋         | 64/1000 [00:00<00:01, 628.55it/s]\n"
     ]
    },
    {
     "name": "stdout",
     "output_type": "stream",
     "text": [
      "Number of hidden units: 4 | Accuracy after optimization: 100.0\n"
     ]
    }
   ],
   "source": [
    "## kbit parity problem\n",
    "X, y_true = generate_k_bit_parity_dataset(k=4)\n",
    "X, y_true = X.to(DEVICE), y_true.to(DEVICE)\n",
    "W_final, training_results = run_FNNCA(X, y_true, acc_threshold=100, max_hidden_units=10, device=DEVICE)\n",
    "plot_loss_profile(training_results, plot_title=f\"Error vs Iteration for 5-bit parity problem with increasing hidden units (h)\",\n",
    "                  output_plot_name=\"testing.png\")\n"
   ]
  },
  {
   "cell_type": "code",
   "execution_count": null,
   "metadata": {},
   "outputs": [],
   "source": []
  },
  {
   "cell_type": "code",
   "execution_count": 150,
   "metadata": {},
   "outputs": [
    {
     "data": {
      "image/png": "[encoded data removed]",
      "text/plain": [
       "<Figure size 432x288 with 1 Axes>"
      ]
     },
     "metadata": {
      "needs_background": "light"
     },
     "output_type": "display_data"
    }
   ],
   "source": [
    "plot_loss_profile(training_results, \"testing\", \"test.png\")"
   ]
  },
  {
   "cell_type": "code",
   "execution_count": null,
   "metadata": {},
   "outputs": [],
   "source": []
  }
 ],
 "metadata": {
  "kernelspec": {
   "display_name": "IDL2024",
   "language": "python",
   "name": "python3"
  },
  "language_info": {
   "codemirror_mode": {
    "name": "ipython",
    "version": 3
   },
   "file_extension": ".py",
   "mimetype": "text/x-python",
   "name": "python",
   "nbconvert_exporter": "python",
   "pygments_lexer": "ipython3",
   "version": "3.8.18"
  }
 },
 "nbformat": 4,
 "nbformat_minor": 2
}
